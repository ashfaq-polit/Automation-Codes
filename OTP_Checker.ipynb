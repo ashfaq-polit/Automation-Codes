{
  "nbformat": 4,
  "nbformat_minor": 0,
  "metadata": {
    "colab": {
      "provenance": [],
      "authorship_tag": "ABX9TyOphNDYePIbrYtvM+vu/xUX",
      "include_colab_link": true
    },
    "kernelspec": {
      "name": "python3",
      "display_name": "Python 3"
    },
    "language_info": {
      "name": "python"
    }
  },
  "cells": [
    {
      "cell_type": "markdown",
      "metadata": {
        "id": "view-in-github",
        "colab_type": "text"
      },
      "source": [
        "<a href=\"https://colab.research.google.com/github/ashfaq-polit/Automation-Codes/blob/main/OTP_Checker.ipynb\" target=\"_parent\"><img src=\"https://colab.research.google.com/assets/colab-badge.svg\" alt=\"Open In Colab\"/></a>"
      ]
    },
    {
      "cell_type": "code",
      "execution_count": 5,
      "metadata": {
        "colab": {
          "base_uri": "https://localhost:8080/"
        },
        "id": "IqpUqlCi0efR",
        "outputId": "8d0e150c-5de9-4e7b-d3bf-9bc9b961f6a6"
      },
      "outputs": [
        {
          "output_type": "stream",
          "name": "stdout",
          "text": [
            "Enter your email: ashfaq.polit@gmail.com\n",
            "Enter Your OTP >>: 100765\n",
            "Verified\n"
          ]
        }
      ],
      "source": [
        "import os\n",
        "import math\n",
        "import random\n",
        "import smtplib\n",
        "\n",
        "digits=\"0123456789\"\n",
        "OTP=\"\"\n",
        "for i in range(6):\n",
        "    OTP+=digits[math.floor(random.random()*10)]\n",
        "otp = OTP + \" is your OTP\"\n",
        "msg= otp\n",
        "s = smtplib.SMTP('smtp.gmail.com', 587)\n",
        "s.starttls()\n",
        "s.login(\"ashfaq.polit@gmail.com\", \"kvhb myvl ryix rbwu\")\n",
        "emailid = input(\"Enter your email: \")\n",
        "s.sendmail('&&&&&&&&&&&',emailid,msg)\n",
        "a = input(\"Enter Your OTP >>: \")\n",
        "if a == OTP:\n",
        "    print(\"Verified\")\n",
        "else:\n",
        "    print(\"Please Check your OTP again\")"
      ]
    }
  ]
}