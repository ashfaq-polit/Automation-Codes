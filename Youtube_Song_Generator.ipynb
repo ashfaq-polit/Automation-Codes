{
  "nbformat": 4,
  "nbformat_minor": 0,
  "metadata": {
    "colab": {
      "provenance": [],
      "authorship_tag": "ABX9TyPiUdOGwgEvOr75FqklI3jg",
      "include_colab_link": true
    },
    "kernelspec": {
      "name": "python3",
      "display_name": "Python 3"
    },
    "language_info": {
      "name": "python"
    }
  },
  "cells": [
    {
      "cell_type": "markdown",
      "metadata": {
        "id": "view-in-github",
        "colab_type": "text"
      },
      "source": [
        "<a href=\"https://colab.research.google.com/github/ashfaq-polit/Automation-Codes/blob/main/Youtube_Song_Generator.ipynb\" target=\"_parent\"><img src=\"https://colab.research.google.com/assets/colab-badge.svg\" alt=\"Open In Colab\"/></a>"
      ]
    },
    {
      "cell_type": "code",
      "source": [
        "import random\n",
        "import webbrowser\n",
        "from googleapiclient.discovery import build\n",
        "\n",
        "\n",
        "def fetch_youtube_songs(mood, api_key):\n",
        "    try:\n",
        "        youtube = build(\"youtube\", \"v3\", developerKey=api_key)\n",
        "        request = youtube.search().list(\n",
        "            q=f\"{mood} song\",\n",
        "            part=\"snippet\",\n",
        "            type=\"video\",\n",
        "            maxResults=10\n",
        "        )\n",
        "        response = request.execute()\n",
        "        songs = [\n",
        "            f\"{item['snippet']['title']} - https://www.youtube.com/watch?v={item['id']['videoId']}\"\n",
        "            for item in response.get('items', [])\n",
        "        ]\n",
        "        return songs\n",
        "    except Exception as e:\n",
        "        print(\"Error while calling the YouTube API:\", e)\n",
        "        return []\n",
        "\n",
        "# Go to Google Cloud Console\n",
        "\n",
        "# Create a new project.\n",
        "\n",
        "# Enable YouTube Data API v3.\n",
        "\n",
        "# Go to “Credentials” → “+ Create Credentials” → API Key.\n",
        "\n",
        "# Copy the key.\n",
        "\n",
        "def random_song_generator():\n",
        "    mood = input(\"Enter your mood (e.g., happy, sad, energetic): \").lower()\n",
        "    api_key = input(\"Paste your YouTube API key: \").strip()\n",
        "\n",
        "    songs = fetch_youtube_songs(mood, api_key)\n",
        "    if not songs:\n",
        "        print(\"No songs found. Please check your mood input or API key.\")\n",
        "        return\n",
        "\n",
        "    random_song = random.choice(songs)\n",
        "    song_title, song_url = random_song.split(\" - \")\n",
        "    webbrowser.open(song_url)\n",
        "    print(f\"Here's a song for your mood ({mood}):\\n{random_song}\")\n",
        "\n",
        "\n",
        "if __name__ == \"__main__\":\n",
        "    random_song_generator()\n"
      ],
      "metadata": {
        "colab": {
          "base_uri": "https://localhost:8080/"
        },
        "id": "pEQvrLGIIS0k",
        "outputId": "bee6022c-bf63-4f5a-ceb1-bd77001d99fe"
      },
      "execution_count": null,
      "outputs": [
        {
          "name": "stdout",
          "output_type": "stream",
          "text": [
            "Enter your mood (e.g., happy, sad, energetic): happy\n"
          ]
        }
      ]
    }
  ]
}