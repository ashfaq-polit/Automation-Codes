{
  "nbformat": 4,
  "nbformat_minor": 0,
  "metadata": {
    "colab": {
      "provenance": [],
      "authorship_tag": "ABX9TyMIgXPTS1BuU7yX1a3BiLA+",
      "include_colab_link": true
    },
    "kernelspec": {
      "name": "python3",
      "display_name": "Python 3"
    },
    "language_info": {
      "name": "python"
    }
  },
  "cells": [
    {
      "cell_type": "markdown",
      "metadata": {
        "id": "view-in-github",
        "colab_type": "text"
      },
      "source": [
        "<a href=\"https://colab.research.google.com/github/ashfaq-polit/Automation-Codes/blob/main/Insta_downloader.ipynb\" target=\"_parent\"><img src=\"https://colab.research.google.com/assets/colab-badge.svg\" alt=\"Open In Colab\"/></a>"
      ]
    },
    {
      "cell_type": "code",
      "source": [
        "!pip install --upgrade instaloader\n",
        "\n",
        "# !pip install requests\n",
        "# !pip install dotenv"
      ],
      "metadata": {
        "colab": {
          "base_uri": "https://localhost:8080/"
        },
        "id": "XBX5bv-87wlb",
        "outputId": "f036957a-be27-4e99-8603-db0db09f3e94"
      },
      "execution_count": 21,
      "outputs": [
        {
          "output_type": "stream",
          "name": "stdout",
          "text": [
            "Requirement already satisfied: instaloader in /usr/local/lib/python3.11/dist-packages (4.14.1)\n",
            "Requirement already satisfied: requests>=2.25 in /usr/local/lib/python3.11/dist-packages (from instaloader) (2.32.3)\n",
            "Requirement already satisfied: charset-normalizer<4,>=2 in /usr/local/lib/python3.11/dist-packages (from requests>=2.25->instaloader) (3.4.2)\n",
            "Requirement already satisfied: idna<4,>=2.5 in /usr/local/lib/python3.11/dist-packages (from requests>=2.25->instaloader) (3.10)\n",
            "Requirement already satisfied: urllib3<3,>=1.21.1 in /usr/local/lib/python3.11/dist-packages (from requests>=2.25->instaloader) (2.4.0)\n",
            "Requirement already satisfied: certifi>=2017.4.17 in /usr/local/lib/python3.11/dist-packages (from requests>=2.25->instaloader) (2025.4.26)\n"
          ]
        }
      ]
    },
    {
      "cell_type": "code",
      "execution_count": 23,
      "metadata": {
        "colab": {
          "base_uri": "https://localhost:8080/",
          "height": 682
        },
        "id": "8Xz3OGP67j4Z",
        "outputId": "548a493a-8911-4107-e31e-0e2fd73c71dc"
      },
      "outputs": [
        {
          "name": "stdout",
          "output_type": "stream",
          "text": [
            " \n",
            "\n",
            "------------------ Instagram Images and Post Downloader ------------------\n",
            "                            [Coded By Muneeb]\n",
            "\n",
            "\n",
            "You're connected to internet\n",
            "\n",
            "Press 'A' to download an instagram post from a private profile.\n",
            "Press 'B' to download an instagram post from a public profile.\n",
            "Press 'Q' to exit.\n",
            "\n",
            "InstaSave > B\n",
            "Enter the target insta username: natgeo\n",
            "Enter the post code for the media (Please don't enter the URL - only code) : DKh7brDs-65\n"
          ]
        },
        {
          "output_type": "stream",
          "name": "stderr",
          "text": [
            "JSON Query to api/v1/users/web_profile_info/?username=natgeo: 401 Unauthorized - \"fail\" status, message \"Please wait a few minutes before you try again.\" when accessing https://i.instagram.com/api/v1/users/web_profile_info/?username=natgeo [retrying; skip with ^C]\n",
            "JSON Query to api/v1/users/web_profile_info/?username=natgeo: 401 Unauthorized - \"fail\" status, message \"Please wait a few minutes before you try again.\" when accessing https://i.instagram.com/api/v1/users/web_profile_info/?username=natgeo [retrying; skip with ^C]\n"
          ]
        },
        {
          "output_type": "stream",
          "name": "stdout",
          "text": [
            "Connection error: JSON Query to api/v1/users/web_profile_info/?username=natgeo: 401 Unauthorized - \"fail\" status, message \"Please wait a few minutes before you try again.\" when accessing https://i.instagram.com/api/v1/users/web_profile_info/?username=natgeo. Retrying in 30 seconds...\n"
          ]
        },
        {
          "output_type": "stream",
          "name": "stderr",
          "text": [
            "JSON Query to api/v1/users/web_profile_info/?username=natgeo: 401 Unauthorized - \"fail\" status, message \"Please wait a few minutes before you try again.\" when accessing https://i.instagram.com/api/v1/users/web_profile_info/?username=natgeo [retrying; skip with ^C]\n",
            "JSON Query to api/v1/users/web_profile_info/?username=natgeo: 401 Unauthorized - \"fail\" status, message \"Please wait a few minutes before you try again.\" when accessing https://i.instagram.com/api/v1/users/web_profile_info/?username=natgeo [retrying; skip with ^C]\n"
          ]
        },
        {
          "output_type": "stream",
          "name": "stdout",
          "text": [
            "Connection error: JSON Query to api/v1/users/web_profile_info/?username=natgeo: 401 Unauthorized - \"fail\" status, message \"Please wait a few minutes before you try again.\" when accessing https://i.instagram.com/api/v1/users/web_profile_info/?username=natgeo. Retrying in 30 seconds...\n"
          ]
        },
        {
          "output_type": "stream",
          "name": "stderr",
          "text": [
            "JSON Query to api/v1/users/web_profile_info/?username=natgeo: 401 Unauthorized - \"fail\" status, message \"Please wait a few minutes before you try again.\" when accessing https://i.instagram.com/api/v1/users/web_profile_info/?username=natgeo [retrying; skip with ^C]\n",
            "JSON Query to api/v1/users/web_profile_info/?username=natgeo: 401 Unauthorized - \"fail\" status, message \"Please wait a few minutes before you try again.\" when accessing https://i.instagram.com/api/v1/users/web_profile_info/?username=natgeo [retrying; skip with ^C]\n"
          ]
        },
        {
          "name": "stdout",
          "output_type": "stream",
          "text": [
            "Connection error: JSON Query to api/v1/users/web_profile_info/?username=natgeo: 401 Unauthorized - \"fail\" status, message \"Please wait a few minutes before you try again.\" when accessing https://i.instagram.com/api/v1/users/web_profile_info/?username=natgeo. Retrying in 30 seconds...\n",
            "Failed to download post after 3 retries.\n",
            "Press 'A' to download an instagram post from a private profile.\n",
            "Press 'B' to download an instagram post from a public profile.\n",
            "Press 'Q' to exit.\n",
            "\n",
            "InstaSave > Q\n"
          ]
        },
        {
          "output_type": "error",
          "ename": "SystemExit",
          "evalue": "",
          "traceback": [
            "An exception has occurred, use %tb to see the full traceback.\n",
            "\u001b[0;31mSystemExit\u001b[0m\n"
          ]
        },
        {
          "output_type": "stream",
          "name": "stderr",
          "text": [
            "/usr/local/lib/python3.11/dist-packages/IPython/core/interactiveshell.py:3561: UserWarning: To exit: use 'exit', 'quit', or Ctrl-D.\n",
            "  warn(\"To exit: use 'exit', 'quit', or Ctrl-D.\", stacklevel=1)\n"
          ]
        }
      ],
      "source": [
        "import instaloader\n",
        "from instaloader import Post\n",
        "import requests\n",
        "import sys\n",
        "import time  # Import the time module\n",
        "\n",
        "#Banner\n",
        "print('''\n",
        "\n",
        "------------------ Instagram Images and Post Downloader ------------------\n",
        "                            [Coded By Muneeb]\n",
        "\n",
        "''')\n",
        "\n",
        "# #Function to check the internet connection\n",
        "# #Got this from https://stackoverflow.com/a/24460981\n",
        "def connection(url='http://www.google.com/', timeout=5):\n",
        "    try:\n",
        "        req = requests.get(url, timeout=timeout)\n",
        "        req.raise_for_status()\n",
        "        print(\"You're connected to internet\\n\")\n",
        "        return True\n",
        "    except requests.HTTPError as e:\n",
        "        print(\"Checking internet connection failed, status code {0}.\".format(\n",
        "        e.response.status_code))\n",
        "    except requests.ConnectionError:\n",
        "        print(\"No internet connection available.\")\n",
        "    return False\n",
        "\n",
        "def download_insta_post(loader, target_username, post_code, max_retries=3, delay=30): # Added retry parameters\n",
        "    retries = 0\n",
        "    while retries < max_retries:\n",
        "        try:\n",
        "            profile = instaloader.Profile.from_username(loader.context, target_username)\n",
        "            post = Post.from_shortcode(loader.context, post_code)\n",
        "            loader.download_post(post, target=target_username)\n",
        "            print(\"Post downloaded successfully\")\n",
        "            return  # Exit the function if successful\n",
        "        except instaloader.exceptions.ConnectionException as e:\n",
        "            print(f\"Connection error: {e}. Retrying in {delay} seconds...\")\n",
        "            retries += 1\n",
        "            time.sleep(delay) # Wait before retrying\n",
        "        except Exception as e:\n",
        "            print(f\"An unexpected error occurred: {e}\")\n",
        "            break # Exit the loop for other errors\n",
        "    if retries == max_retries:\n",
        "        print(f\"Failed to download post after {max_retries} retries.\")\n",
        "\n",
        "\n",
        "if connection() == True:\n",
        "    # Create an instance of Instaloader\n",
        "    L = instaloader.Instaloader()\n",
        "    try:\n",
        "        while True:\n",
        "            a = \"Press 'A' to download an instagram post from a private profile.\\nPress 'B' to download an instagram post from a public profile.\\nPress 'Q' to exit.\"\n",
        "            print(a)\n",
        "            select = str(input(\"\\nInstaSave > \")).upper()\n",
        "            try:\n",
        "                if select == 'A':\n",
        "                    username = input(\"Enter your IG username: \")\n",
        "                    password = input(\"Enter your IG password: \")\n",
        "                    L.login(username, password)\n",
        "                    t_username = input(\"Enter the target insta username: \")\n",
        "                    post_code = input(\"Enter the post code for the media (Please don't enter the URL - only code) : \")\n",
        "                    download_insta_post(L, t_username, post_code)\n",
        "                    # Moved the print statement inside the download_insta_post function\n",
        "                if select == 'B':\n",
        "                    t_username = input(\"Enter the target insta username: \") #sample input: quote_nietzsche\n",
        "                    post_code = input(\"Enter the post code for the media (Please don't enter the URL - only code) : \") #sample input: Cyv0uoAOewp\n",
        "                    download_insta_post(L, t_username, post_code)\n",
        "                    # Moved the print statement inside the download_insta_post function\n",
        "                if select == 'Q':\n",
        "                    sys.exit()\n",
        "                # The original else sys.exit() would exit after any input other than 'A', 'B', or 'Q'.\n",
        "                # Removed this to allow the loop to continue for invalid input.\n",
        "                # You might want to add a message for invalid input.\n",
        "            except (KeyboardInterrupt):\n",
        "                 print(\"Programme Interrupted\")\n",
        "    except(KeyboardInterrupt):\n",
        "        print(\"\\nProgramme Interrupted\")\n",
        "else:\n",
        "    sys.exit()"
      ]
    },
    {
      "cell_type": "code",
      "source": [],
      "metadata": {
        "id": "TJJ_6dgc97fD"
      },
      "execution_count": null,
      "outputs": []
    }
  ]
}