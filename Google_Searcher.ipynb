{
  "nbformat": 4,
  "nbformat_minor": 0,
  "metadata": {
    "colab": {
      "provenance": [],
      "authorship_tag": "ABX9TyMp/G8DZJ4b3KQrFfACUTY9",
      "include_colab_link": true
    },
    "kernelspec": {
      "name": "python3",
      "display_name": "Python 3"
    },
    "language_info": {
      "name": "python"
    }
  },
  "cells": [
    {
      "cell_type": "markdown",
      "metadata": {
        "id": "view-in-github",
        "colab_type": "text"
      },
      "source": [
        "<a href=\"https://colab.research.google.com/github/ashfaq-polit/Automation-Codes/blob/main/Google_Searcher.ipynb\" target=\"_parent\"><img src=\"https://colab.research.google.com/assets/colab-badge.svg\" alt=\"Open In Colab\"/></a>"
      ]
    },
    {
      "cell_type": "code",
      "execution_count": 23,
      "metadata": {
        "colab": {
          "base_uri": "https://localhost:8080/"
        },
        "id": "wGpGusBWH_fs",
        "outputId": "7ddfd969-09fa-4fea-f7dc-2643b10a383a"
      },
      "outputs": [
        {
          "output_type": "stream",
          "name": "stdout",
          "text": [
            "Collecting googlesearch-python\n",
            "  Downloading googlesearch_python-1.3.0-py3-none-any.whl.metadata (3.4 kB)\n",
            "Requirement already satisfied: beautifulsoup4>=4.9 in /usr/local/lib/python3.11/dist-packages (from googlesearch-python) (4.13.4)\n",
            "Requirement already satisfied: requests>=2.20 in /usr/local/lib/python3.11/dist-packages (from googlesearch-python) (2.32.3)\n",
            "Requirement already satisfied: soupsieve>1.2 in /usr/local/lib/python3.11/dist-packages (from beautifulsoup4>=4.9->googlesearch-python) (2.7)\n",
            "Requirement already satisfied: typing-extensions>=4.0.0 in /usr/local/lib/python3.11/dist-packages (from beautifulsoup4>=4.9->googlesearch-python) (4.13.2)\n",
            "Requirement already satisfied: charset-normalizer<4,>=2 in /usr/local/lib/python3.11/dist-packages (from requests>=2.20->googlesearch-python) (3.4.2)\n",
            "Requirement already satisfied: idna<4,>=2.5 in /usr/local/lib/python3.11/dist-packages (from requests>=2.20->googlesearch-python) (3.10)\n",
            "Requirement already satisfied: urllib3<3,>=1.21.1 in /usr/local/lib/python3.11/dist-packages (from requests>=2.20->googlesearch-python) (2.4.0)\n",
            "Requirement already satisfied: certifi>=2017.4.17 in /usr/local/lib/python3.11/dist-packages (from requests>=2.20->googlesearch-python) (2025.4.26)\n",
            "Downloading googlesearch_python-1.3.0-py3-none-any.whl (5.6 kB)\n",
            "Installing collected packages: googlesearch-python\n",
            "Successfully installed googlesearch-python-1.3.0\n"
          ]
        }
      ],
      "source": [
        "!pip install googlesearch-python"
      ]
    },
    {
      "cell_type": "code",
      "source": [
        "from googlesearch import search\n",
        "\n",
        "def Googlesearch(query):\n",
        "  searchresulst = []\n",
        "  for j in search(query, num_results=10):\n",
        "    searchresulst.append(j)\n",
        "  return searchresulst\n",
        "\n",
        "query = input('Which term would you like to search for? ')\n",
        "Googlesearch(query)"
      ],
      "metadata": {
        "colab": {
          "base_uri": "https://localhost:8080/"
        },
        "id": "pEQvrLGIIS0k",
        "outputId": "8da1449f-16d2-482c-bb16-fabcb43094aa"
      },
      "execution_count": 30,
      "outputs": [
        {
          "name": "stdout",
          "output_type": "stream",
          "text": [
            "Which term would you like to search for? florida\n"
          ]
        },
        {
          "output_type": "execute_result",
          "data": {
            "text/plain": [
              "['https://en.wikipedia.org/wiki/Florida',\n",
              " 'https://www.tallahassee.com/story/news/local/state/2025/06/06/desantis-florida-budget-troubles-tax-cuts-nurses-teachers-troopers-prison-guards/84027082007/',\n",
              " 'https://www.myflorida.gov/',\n",
              " 'https://www.visitflorida.com/',\n",
              " 'https://www.ufl.edu/',\n",
              " 'https://www.flhsmv.gov/',\n",
              " 'https://dos.fl.gov/',\n",
              " 'https://www.fsu.edu/',\n",
              " 'https://www.google.com/search?num=12',\n",
              " 'https://www.britannica.com/place/Florida']"
            ]
          },
          "metadata": {},
          "execution_count": 30
        }
      ]
    }
  ]
}