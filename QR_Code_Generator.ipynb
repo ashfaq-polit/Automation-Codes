{
  "nbformat": 4,
  "nbformat_minor": 0,
  "metadata": {
    "colab": {
      "provenance": [],
      "authorship_tag": "ABX9TyNDRmJe6pAhTlg6kqoX4v4C",
      "include_colab_link": true
    },
    "kernelspec": {
      "name": "python3",
      "display_name": "Python 3"
    },
    "language_info": {
      "name": "python"
    }
  },
  "cells": [
    {
      "cell_type": "markdown",
      "metadata": {
        "id": "view-in-github",
        "colab_type": "text"
      },
      "source": [
        "<a href=\"https://colab.research.google.com/github/ashfaq-polit/Automation-Codes/blob/main/QR_Code_Generator.ipynb\" target=\"_parent\"><img src=\"https://colab.research.google.com/assets/colab-badge.svg\" alt=\"Open In Colab\"/></a>"
      ]
    },
    {
      "cell_type": "code",
      "source": [
        "!pip install qrcode"
      ],
      "metadata": {
        "colab": {
          "base_uri": "https://localhost:8080/"
        },
        "id": "14vC3gU40IN6",
        "outputId": "aca19414-91d3-4396-8414-774500b9a332"
      },
      "execution_count": 5,
      "outputs": [
        {
          "output_type": "stream",
          "name": "stdout",
          "text": [
            "Collecting qrcode\n",
            "  Downloading qrcode-8.2-py3-none-any.whl.metadata (17 kB)\n",
            "Downloading qrcode-8.2-py3-none-any.whl (45 kB)\n",
            "\u001b[?25l   \u001b[90m━━━━━━━━━━━━━━━━━━━━━━━━━━━━━━━━━━━━━━━━\u001b[0m \u001b[32m0.0/46.0 kB\u001b[0m \u001b[31m?\u001b[0m eta \u001b[36m-:--:--\u001b[0m\r\u001b[2K   \u001b[90m━━━━━━━━━━━━━━━━━━━━━━━━━━━━━━━━━━━━━━━━\u001b[0m \u001b[32m46.0/46.0 kB\u001b[0m \u001b[31m3.5 MB/s\u001b[0m eta \u001b[36m0:00:00\u001b[0m\n",
            "\u001b[?25hInstalling collected packages: qrcode\n",
            "Successfully installed qrcode-8.2\n"
          ]
        }
      ]
    },
    {
      "cell_type": "code",
      "source": [
        "import qrcode\n",
        "from qrcode.constants import ERROR_CORRECT_L\n",
        "\n",
        "def generate_qrcode(data: str, file_path: str = \"qrcode.png\", fill_color: str = \"black\", back_color: str = \"white\"):\n",
        "    \"\"\"\n",
        "    Generates a QR code from the provided data and saves it as an image file.\n",
        "\n",
        "    Parameters:\n",
        "    - data (str): The content the QR code should contain (URL, text, etc.).\n",
        "    - file_path (str): The path to save the QR code image file (default: \"qrcode.png\").\n",
        "    - fill_color (str): Color of the QR code (default: \"black\").\n",
        "    - back_color (str): Background color of the QR code (default: \"white\").\n",
        "    \"\"\"\n",
        "    qr = qrcode.QRCode(\n",
        "        version=1,\n",
        "        error_correction=ERROR_CORRECT_L,\n",
        "        box_size=10,\n",
        "        border=4\n",
        "    )\n",
        "    qr.add_data(data)\n",
        "    qr.make(fit=True)\n",
        "\n",
        "    # Generate the image with specified colors\n",
        "    img = qr.make_image(fill_color=fill_color, back_color=back_color)\n",
        "    img.save(file_path)\n",
        "    print(f\"QR code saved as {file_path}\")\n",
        "\n",
        "# Usage example\n",
        "generate_qrcode(\"https://example.com\", \"my_qrcode.png\")"
      ],
      "metadata": {
        "colab": {
          "base_uri": "https://localhost:8080/"
        },
        "id": "wGolHdlpwAUd",
        "outputId": "1bc68e84-9662-4c8c-8f64-afabe7891116"
      },
      "execution_count": 7,
      "outputs": [
        {
          "output_type": "stream",
          "name": "stdout",
          "text": [
            "QR code saved as my_qrcode.png\n"
          ]
        }
      ]
    }
  ]
}