{
  "nbformat": 4,
  "nbformat_minor": 0,
  "metadata": {
    "colab": {
      "provenance": [],
      "authorship_tag": "ABX9TyPDls6VO1higWS5K1nB82hO",
      "include_colab_link": true
    },
    "kernelspec": {
      "name": "python3",
      "display_name": "Python 3"
    },
    "language_info": {
      "name": "python"
    }
  },
  "cells": [
    {
      "cell_type": "markdown",
      "metadata": {
        "id": "view-in-github",
        "colab_type": "text"
      },
      "source": [
        "<a href=\"https://colab.research.google.com/github/ashfaq-polit/Automation-Codes/blob/main/Youtube_Playlist_Info_Scraper.ipynb\" target=\"_parent\"><img src=\"https://colab.research.google.com/assets/colab-badge.svg\" alt=\"Open In Colab\"/></a>"
      ]
    },
    {
      "cell_type": "code",
      "source": [
        "from Playlist import Playlist"
      ],
      "metadata": {
        "id": "2JDv_SyYeBol"
      },
      "execution_count": 13,
      "outputs": []
    },
    {
      "cell_type": "code",
      "execution_count": 10,
      "metadata": {
        "id": "MXo2hvvIQLmp"
      },
      "outputs": [],
      "source": [
        "\"\"\"\n",
        "This module provides functionalities for YouTube Playlist.\n",
        "\"\"\"\n",
        "\n",
        "import requests\n",
        "from bs4 import BeautifulSoup\n",
        "import json\n",
        "\n",
        "class Playlist:\n",
        "\n",
        "    \"\"\"\n",
        "    This class provides methods to perform operatoins for given YouTube Playlist.\n",
        "    \"\"\"\n",
        "\n",
        "    def __init__(self, playlist_link):\n",
        "\n",
        "        \"\"\"\n",
        "        Initializes the playlist with a playlist link.\n",
        "\n",
        "        Parameters:\n",
        "            playlist_link (str): Url of YouTube Playlist\n",
        "        \"\"\"\n",
        "\n",
        "        self.playlist_link = playlist_link\n",
        "\n",
        "    def info(self):\n",
        "\n",
        "        \"\"\"\n",
        "        Returns:\n",
        "            dict: Information about given Playlist.\n",
        "        \"\"\"\n",
        "\n",
        "        info = {}\n",
        "\n",
        "        try:\n",
        "\n",
        "            headers = {\"User-Agent\": \"Mozilla/5.0 (Windows NT 10.0; Win64; x64) AppleWebKit/537.36 (KHTML, like Gecko) Chrome/125.0.6422.112 Safari/537.36\"}\n",
        "\n",
        "            response = requests.get(url=self.playlist_link, headers=headers)\n",
        "\n",
        "            soup = BeautifulSoup(response.text, 'html.parser')\n",
        "\n",
        "            script_elements = soup.find_all('script')\n",
        "\n",
        "            for e in script_elements:\n",
        "\n",
        "                if e.text.startswith(\"var ytInitialData\"):\n",
        "\n",
        "                    data_dict = json.loads(e.text[20:-1])\n",
        "\n",
        "                    playlist = data_dict[\"contents\"][\"twoColumnWatchNextResults\"][\"playlist\"][\"playlist\"]\n",
        "\n",
        "                    if \"title\" in playlist:\n",
        "                        info[\"title\"] = playlist[\"title\"]\n",
        "                    else:\n",
        "                        info[\"title\"] = \"\"\n",
        "\n",
        "                    if \"totalVideos\" in playlist:\n",
        "                        info[\"totalVideos\"] = playlist[\"totalVideos\"]\n",
        "                    else:\n",
        "                        info[\"totalVideos\"] = \"\"\n",
        "\n",
        "                    if \"ownerName\" in playlist:\n",
        "                        info[\"channelName\"] = playlist[\"ownerName\"][\"simpleText\"]\n",
        "                    else:\n",
        "                        info[\"channelName\"] = \"\"\n",
        "\n",
        "                    if \"playlistShareUrl\" in playlist:\n",
        "                        info[\"playlistUrl\"] = playlist[\"playlistShareUrl\"]\n",
        "                    else:\n",
        "                        info[\"playlistUrl\"] = \"\"\n",
        "\n",
        "                    if \"contents\" in playlist:\n",
        "\n",
        "                        playlist_videos = playlist[\"contents\"]\n",
        "\n",
        "                        info[\"videos\"] = []\n",
        "\n",
        "                        for video in playlist_videos:\n",
        "\n",
        "                            video_data = {}\n",
        "\n",
        "                            video = video[\"playlistPanelVideoRenderer\"]\n",
        "\n",
        "                            if \"title\" in video:\n",
        "                                video_data[\"title\"] = video[\"title\"][\"simpleText\"]\n",
        "                            else:\n",
        "                                video_data[\"title\"] = \"\"\n",
        "\n",
        "                            if \"lengthText\" in video:\n",
        "                                video_data[\"duration\"] = video[\"lengthText\"][\"simpleText\"]\n",
        "                            else:\n",
        "                                video_data[\"duration\"] = \"\"\n",
        "\n",
        "                            if \"videoId\" in video:\n",
        "                                video_data[\"id\"] = video[\"videoId\"]\n",
        "                            else:\n",
        "                                video_data[\"id\"] = \"\"\n",
        "\n",
        "                            info[\"videos\"].append(video_data) # Update info with video\n",
        "\n",
        "                    info[\"duration\"] = self.__calculatePlaylistDuration(info[\"videos\"])\n",
        "\n",
        "                    break # Target Element Found; Break loop\n",
        "\n",
        "        except Exception as e:\n",
        "            print(\"Error in info():\", e)\n",
        "\n",
        "        return info\n",
        "\n",
        "    def __calculatePlaylistDuration(self, videos_data):\n",
        "\n",
        "        \"\"\"\n",
        "        Calculate total playlist duration by aggregating the duration of all videos present in playlist.\n",
        "\n",
        "        Parameters:\n",
        "            list: List of videos' data\n",
        "\n",
        "        Returns:\n",
        "            str: Total duration of Playlist Videos in format -> HH:MM:SS\n",
        "        \"\"\"\n",
        "\n",
        "        total_duration = \"00:00:00\"\n",
        "\n",
        "        try:\n",
        "\n",
        "            hours, minutes, seconds = 0,0,0\n",
        "\n",
        "            for video in videos_data:\n",
        "\n",
        "                video_duration = video[\"duration\"]\n",
        "\n",
        "                video_duration_parts = video_duration.split(\":\")\n",
        "\n",
        "                if len(video_duration_parts) == 3:\n",
        "                    hours += int(video_duration_parts[0])\n",
        "                    minutes += int(video_duration_parts[1])\n",
        "                    seconds += int(video_duration_parts[2])\n",
        "\n",
        "                if len(video_duration_parts) == 2:\n",
        "                    minutes += int(video_duration_parts[0])\n",
        "                    seconds += int(video_duration_parts[1])\n",
        "\n",
        "                if len(video_duration_parts) == 1:\n",
        "                    seconds += int(video_duration_parts[0])\n",
        "\n",
        "            hours += minutes // 60\n",
        "\n",
        "            minutes = minutes % 60\n",
        "\n",
        "            minutes += seconds // 60\n",
        "\n",
        "            seconds = seconds % 60\n",
        "\n",
        "            total_duration = f\"{hours}:{minutes}:{seconds}\"\n",
        "\n",
        "        except Exception as e:\n",
        "            print(\"Error in __calculatePlaylistDuration():\", e)\n",
        "\n",
        "        return total_duration"
      ]
    },
    {
      "cell_type": "code",
      "source": [
        "playlist = Playlist(\"https://www.youtube.com/watch?v=_t2GVaQasRY&list=PLeo1K3hjS3uu_n_a__MI_KktGTLYopZ12\")"
      ],
      "metadata": {
        "id": "q0j5ysOeSaaO"
      },
      "execution_count": 18,
      "outputs": []
    },
    {
      "cell_type": "code",
      "source": [
        "info = playlist.info()\n",
        "print(info)"
      ],
      "metadata": {
        "colab": {
          "base_uri": "https://localhost:8080/"
        },
        "id": "lZVR_I9NShH0",
        "outputId": "5e5cf096-060f-4aff-9793-66606ad3435b"
      },
      "execution_count": 19,
      "outputs": [
        {
          "output_type": "stream",
          "name": "stdout",
          "text": [
            "{'title': 'Data Structures And Algorithms In Python', 'totalVideos': 20, 'channelName': 'codebasics', 'playlistUrl': 'http://www.youtube.com/watch?v=_t2GVaQasRY&list=PLeo1K3hjS3uu_n_a__MI_KktGTLYopZ12', 'videos': [{'title': 'Data Structures & Algorithms Tutorial in Python #1 - What are data structures?', 'duration': '5:47', 'id': '_t2GVaQasRY'}, {'title': 'Big O notation - Data Structures & Algorithms Tutorial #2 | Measuring time complexity', 'duration': '12:31', 'id': 'IR_S8BC8KI0'}, {'title': 'Arrays - Data Structures & Algorithms Tutorials in Python #3', 'duration': '14:15', 'id': 'gDqQf4Ekr2A'}, {'title': 'Linked List - Data Structures & Algorithms Tutorials in Python #4', 'duration': '28:16', 'id': 'qp8u-frRAnU'}, {'title': 'Hash Table - Data Structures & Algorithms Tutorials In Python #5', 'duration': '17:52', 'id': 'ea8BRGxGmlA'}, {'title': 'Collision Handling In Hash Table - Data Structures & Algorithms Tutorials In Python #6', 'duration': '18:21', 'id': '54iv1si4YCM'}, {'title': 'Stack - Data Structures & Algorithms Tutorial In Python #7', 'duration': '13:05', 'id': 'zwb3GmNAtFk'}, {'title': 'Queue - Data Structures & Algorithms Tutorials In Python #8', 'duration': '14:20', 'id': 'rUUrmGKYwHw'}, {'title': 'Tree (General Tree) - Data Structures & Algorithms Tutorials In Python #9', 'duration': '24:30', 'id': '4r_XR9fUPhQ'}, {'title': 'Binary Tree Part 1 | BST | Binary Search Tree - Data Structures & Algorithms Tutorials In Python #10', 'duration': '25:18', 'id': 'lFq5mYUWEBk'}, {'title': 'Binary Tree Part 2 | BST | Binary Search Tree - Data Structures & Algorithms Tutorials In Python #11', 'duration': '16:17', 'id': 'JnrbMQyGLiU'}, {'title': 'Graph Introduction - Data Structures & Algorithms Tutorials In Python #12', 'duration': '32:27', 'id': 'j0IYCyBdzfA'}, {'title': 'Binary Search - Data Structures & Algorithms Tutorial Python #13', 'duration': '25:15', 'id': 'GnZ9ppr_zaI'}, {'title': 'Bubble Sort - Data Structures & Algorithms Tutorial Python #14', 'duration': '15:09', 'id': 'ppmIOUIz4uI'}, {'title': 'Quick Sort - Data Structures & Algorithms Tutorial Python #15', 'duration': '31:17', 'id': '5iSZ7mh_RAk'}, {'title': 'Insertion Sort - Data Structures & Algorithms Tutorial Python #16', 'duration': '12:35', 'id': 'K0zTIF3rm9s'}, {'title': 'Merge Sort - Data Structures & Algorithms Tutorial Python #17', 'duration': '21:41', 'id': 'nCNfu_zNhyI'}, {'title': 'Shell Sort - Data Structures & Algorithms Tutorial Python #18', 'duration': '18:33', 'id': 'VxNr9Vudp4Y'}, {'title': 'Selection Sort in python - Data Structures & Algorithms Tutorial Python #19', 'duration': '9:07', 'id': 'hhkLdjIimlw'}, {'title': 'Simple Explanation of Recursion | Recursion Python| Data Structures & Algorithms Tutorial Python #20', 'duration': '14:51', 'id': '9bsK03SlmNM'}], 'duration': '6:11:27'}\n"
          ]
        }
      ]
    }
  ]
}