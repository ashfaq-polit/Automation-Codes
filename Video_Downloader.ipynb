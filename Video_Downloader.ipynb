{
  "nbformat": 4,
  "nbformat_minor": 0,
  "metadata": {
    "colab": {
      "provenance": [],
      "authorship_tag": "ABX9TyPTG81/mrBekKCTNAFuW0NK",
      "include_colab_link": true
    },
    "kernelspec": {
      "name": "python3",
      "display_name": "Python 3"
    },
    "language_info": {
      "name": "python"
    }
  },
  "cells": [
    {
      "cell_type": "markdown",
      "metadata": {
        "id": "view-in-github",
        "colab_type": "text"
      },
      "source": [
        "<a href=\"https://colab.research.google.com/github/ashfaq-polit/Automation-Codes/blob/main/Video_Downloader.ipynb\" target=\"_parent\"><img src=\"https://colab.research.google.com/assets/colab-badge.svg\" alt=\"Open In Colab\"/></a>"
      ]
    },
    {
      "cell_type": "code",
      "source": [
        "!pip install --upgrade yt_dlp\n"
      ],
      "metadata": {
        "colab": {
          "base_uri": "https://localhost:8080/"
        },
        "id": "4jJCQgISANID",
        "outputId": "3529233b-6f4b-45ef-dda4-7d4e9268d7ad"
      },
      "execution_count": 26,
      "outputs": [
        {
          "output_type": "stream",
          "name": "stdout",
          "text": [
            "Collecting yt_dlp\n",
            "  Downloading yt_dlp-2025.6.9-py3-none-any.whl.metadata (174 kB)\n",
            "\u001b[2K     \u001b[90m━━━━━━━━━━━━━━━━━━━━━━━━━━━━━━━━━━━━━━━\u001b[0m \u001b[32m174.3/174.3 kB\u001b[0m \u001b[31m3.6 MB/s\u001b[0m eta \u001b[36m0:00:00\u001b[0m\n",
            "\u001b[?25hDownloading yt_dlp-2025.6.9-py3-none-any.whl (3.3 MB)\n",
            "\u001b[2K   \u001b[90m━━━━━━━━━━━━━━━━━━━━━━━━━━━━━━━━━━━━━━━━\u001b[0m \u001b[32m3.3/3.3 MB\u001b[0m \u001b[31m35.8 MB/s\u001b[0m eta \u001b[36m0:00:00\u001b[0m\n",
            "\u001b[?25hInstalling collected packages: yt_dlp\n",
            "Successfully installed yt_dlp-2025.6.9\n"
          ]
        }
      ]
    },
    {
      "cell_type": "code",
      "execution_count": 27,
      "metadata": {
        "colab": {
          "base_uri": "https://localhost:8080/"
        },
        "id": "6kcLJALr7KQt",
        "outputId": "0b643af1-786f-4e2f-df0f-e65fdb2aca77"
      },
      "outputs": [
        {
          "output_type": "stream",
          "name": "stdout",
          "text": [
            "Enter the YouTube video link: https://www.youtube.com/watch?v=2maPaQutcWs&t=95s\n",
            "[youtube] Extracting URL: https://www.youtube.com/watch?v=2maPaQutcWs&t=95s\n",
            "[youtube] 2maPaQutcWs: Downloading webpage\n",
            "[youtube] 2maPaQutcWs: Downloading tv client config\n",
            "[youtube] 2maPaQutcWs: Downloading player 94f771d8-main\n",
            "[youtube] 2maPaQutcWs: Downloading tv player API JSON\n",
            "[youtube] 2maPaQutcWs: Downloading ios player API JSON\n"
          ]
        },
        {
          "output_type": "stream",
          "name": "stderr",
          "text": [
            "WARNING: [youtube] 2maPaQutcWs: Some tv client https formats have been skipped as they are DRM protected. The current session may have an experiment that applies DRM to all videos on the tv client. See  https://github.com/yt-dlp/yt-dlp/issues/12563  for more details.\n",
            "WARNING: [youtube] 2maPaQutcWs: Some web client https formats have been skipped as they are missing a url. YouTube is forcing SABR streaming for this client. See  https://github.com/yt-dlp/yt-dlp/issues/12482  for more details\n"
          ]
        },
        {
          "output_type": "stream",
          "name": "stdout",
          "text": [
            "[youtube] 2maPaQutcWs: Downloading m3u8 information\n",
            "[info] 2maPaQutcWs: Downloading 1 format(s): 616+234\n",
            "[hlsnative] Downloading m3u8 manifest\n",
            "[hlsnative] Total fragments: 400\n",
            "[download] Destination: Generative AI In AWS-AWS Bedrock Crash Course #awsbedrock #genai.f616.mp4\n",
            "[download] 100% of  276.20MiB in 00:01:39 at 2.79MiB/s                   \n",
            "[hlsnative] Downloading m3u8 manifest\n",
            "[hlsnative] Total fragments: 400\n",
            "[download] Destination: Generative AI In AWS-AWS Bedrock Crash Course #awsbedrock #genai.f234.mp4\n",
            "[download] 100% of   34.78MiB in 00:00:52 at 675.11KiB/s                 \n",
            "[Merger] Merging formats into \"Generative AI In AWS-AWS Bedrock Crash Course #awsbedrock #genai.mp4\"\n",
            "Deleting original file Generative AI In AWS-AWS Bedrock Crash Course #awsbedrock #genai.f234.mp4 (pass -k to keep)\n",
            "Deleting original file Generative AI In AWS-AWS Bedrock Crash Course #awsbedrock #genai.f616.mp4 (pass -k to keep)\n",
            "Download complete!\n"
          ]
        }
      ],
      "source": [
        "import yt_dlp\n",
        "\n",
        "def download_youtube_video(link):\n",
        "    try:\n",
        "        ydl_opts = {\n",
        "            'format': 'bestvideo+bestaudio/best',  # Get best video + audio\n",
        "            'merge_output_format': 'mp4',          # Merge to mp4\n",
        "            'outtmpl': '%(title)s.%(ext)s'         # Save as video title\n",
        "        }\n",
        "\n",
        "        with yt_dlp.YoutubeDL(ydl_opts) as ydl:\n",
        "            ydl.download([link])\n",
        "            print(\"Download complete!\")\n",
        "    except Exception as e:\n",
        "        print(f\"Error downloading video: {e}\")\n",
        "\n",
        "if __name__ == \"__main__\":\n",
        "    video_link = input(\"Enter the YouTube video link: \").strip()\n",
        "    download_youtube_video(video_link)\n"
      ]
    }
  ]
}