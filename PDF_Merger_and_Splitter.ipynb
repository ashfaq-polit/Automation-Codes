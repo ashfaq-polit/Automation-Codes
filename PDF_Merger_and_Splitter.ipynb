{
  "nbformat": 4,
  "nbformat_minor": 0,
  "metadata": {
    "colab": {
      "provenance": [],
      "authorship_tag": "ABX9TyMsCTxwYX7BJKpBz6NFiGMZ",
      "include_colab_link": true
    },
    "kernelspec": {
      "name": "python3",
      "display_name": "Python 3"
    },
    "language_info": {
      "name": "python"
    }
  },
  "cells": [
    {
      "cell_type": "markdown",
      "metadata": {
        "id": "view-in-github",
        "colab_type": "text"
      },
      "source": [
        "<a href=\"https://colab.research.google.com/github/ashfaq-polit/Automation-Codes/blob/main/PDF_Merger_and_Splitter.ipynb\" target=\"_parent\"><img src=\"https://colab.research.google.com/assets/colab-badge.svg\" alt=\"Open In Colab\"/></a>"
      ]
    },
    {
      "cell_type": "code",
      "source": [
        "!pip install PyPDF2"
      ],
      "metadata": {
        "colab": {
          "base_uri": "https://localhost:8080/"
        },
        "id": "EVnPAqjTbWtn",
        "outputId": "41098113-7459-4688-a439-d6201272b76e"
      },
      "execution_count": 2,
      "outputs": [
        {
          "output_type": "stream",
          "name": "stdout",
          "text": [
            "Collecting PyPDF2\n",
            "  Downloading pypdf2-3.0.1-py3-none-any.whl.metadata (6.8 kB)\n",
            "Downloading pypdf2-3.0.1-py3-none-any.whl (232 kB)\n",
            "\u001b[2K   \u001b[90m━━━━━━━━━━━━━━━━━━━━━━━━━━━━━━━━━━━━━━━━\u001b[0m \u001b[32m232.6/232.6 kB\u001b[0m \u001b[31m5.0 MB/s\u001b[0m eta \u001b[36m0:00:00\u001b[0m\n",
            "\u001b[?25hInstalling collected packages: PyPDF2\n",
            "Successfully installed PyPDF2-3.0.1\n"
          ]
        }
      ]
    },
    {
      "cell_type": "code",
      "execution_count": 8,
      "metadata": {
        "id": "LugQqNPPbO59"
      },
      "outputs": [],
      "source": [
        "from PyPDF2 import PdfReader, PdfWriter\n",
        "\n",
        "def merge_pdfs(pdfs, output):\n",
        "    pdf_writer = PdfWriter()\n",
        "    for pdf in pdfs:\n",
        "        reader = PdfReader(pdf)\n",
        "        for page in range(len(reader.pages)):\n",
        "            pdf_writer.add_page(reader.pages[page])\n",
        "\n",
        "    with open(output, 'wb') as out:\n",
        "        pdf_writer.write(out)\n",
        "\n",
        "\n",
        "\n",
        "merge_pdfs(['Bus Transport Bank Receipt.pdf', 'Invoice-GNV-WPB.pdf'], 'merged.pdf')\n",
        "\n"
      ]
    },
    {
      "cell_type": "code",
      "source": [
        "def split_pdf(pdf, split_page):\n",
        "    reader = PdfReader(pdf)\n",
        "    if split_page < 1 or split_page > len(reader.pages):\n",
        "        print(\"Invalid page number. Please enter a page number within the range.\")\n",
        "        return\n",
        "\n",
        "    # Split the PDF into two parts: before and after the specified page\n",
        "    writer1 = PdfWriter()\n",
        "    for page_num in range(split_page - 1):\n",
        "        writer1.add_page(reader.pages[page_num])\n",
        "    output_filename1 = f'{pdf.split(\".\")[0]}_part1.pdf'\n",
        "    with open(output_filename1, 'wb') as out:\n",
        "        writer1.write(out)\n",
        "\n",
        "    writer2 = PdfWriter()\n",
        "    for page_num in range(split_page - 1, len(reader.pages)):\n",
        "        writer2.add_page(reader.pages[page_num])\n",
        "    output_filename2 = f'{pdf.split(\".\")[0]}_part2.pdf'\n",
        "    with open(output_filename2, 'wb') as out:\n",
        "        writer2.write(out)\n",
        "\n",
        "    print(f\"PDF split into {output_filename1} and {output_filename2}\")\n",
        "\n",
        "\n",
        "# Ask for user input for the split page\n",
        "split_page = int(input(\"Enter the page number at which you'd like to split the merged PDF: \"))\n",
        "split_pdf('merged.pdf', split_page)"
      ],
      "metadata": {
        "colab": {
          "base_uri": "https://localhost:8080/"
        },
        "id": "W6lE2AdAcfFN",
        "outputId": "39c8736d-942b-4beb-8773-587466b2f709"
      },
      "execution_count": 7,
      "outputs": [
        {
          "output_type": "stream",
          "name": "stdout",
          "text": [
            "Enter the page number at which you'd like to split the merged PDF: 3\n",
            "PDF split into merged_part1.pdf and merged_part2.pdf\n"
          ]
        }
      ]
    }
  ]
}