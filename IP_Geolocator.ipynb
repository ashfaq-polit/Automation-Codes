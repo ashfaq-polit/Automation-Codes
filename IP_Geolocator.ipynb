{
  "nbformat": 4,
  "nbformat_minor": 0,
  "metadata": {
    "colab": {
      "provenance": [],
      "authorship_tag": "ABX9TyMxbQi9Vln2mkrDlY6hQW6B",
      "include_colab_link": true
    },
    "kernelspec": {
      "name": "python3",
      "display_name": "Python 3"
    },
    "language_info": {
      "name": "python"
    }
  },
  "cells": [
    {
      "cell_type": "markdown",
      "metadata": {
        "id": "view-in-github",
        "colab_type": "text"
      },
      "source": [
        "<a href=\"https://colab.research.google.com/github/ashfaq-polit/Automation-Codes/blob/main/IP_Geolocator.ipynb\" target=\"_parent\"><img src=\"https://colab.research.google.com/assets/colab-badge.svg\" alt=\"Open In Colab\"/></a>"
      ]
    },
    {
      "cell_type": "code",
      "execution_count": 7,
      "metadata": {
        "colab": {
          "base_uri": "https://localhost:8080/"
        },
        "id": "_y3ZY5341Ev7",
        "outputId": "8c6a22d6-daae-4812-ebc6-7b399345c9bd"
      },
      "outputs": [
        {
          "output_type": "stream",
          "name": "stdout",
          "text": [
            "Enter IP Address To Geolocate: 24.250.180.105\n",
            "Successfully Located : 24.250.180.105\n",
            "Country:  United States\n",
            "Region:  Florida\n",
            "City:  Gainesville\n",
            "ZIP:  32608\n",
            "Latitude:  29.6138\n",
            "Longitude:  -82.386\n",
            "Timezone:  America/New_York\n",
            "ISP:  Cox Communications Inc.\n"
          ]
        }
      ],
      "source": [
        "import requests\n",
        "URL=\"http://ip-api.com/json/\"\n",
        "def locate(IP):\n",
        "    r = requests.get(URL+IP).json()\n",
        "    if(r[\"status\"] == \"success\"):\n",
        "        print(\"Successfully Located :\",IP)\n",
        "        print(\"Country: \", r[\"country\"])\n",
        "        print(\"Region: \", r[\"regionName\"])\n",
        "        print(\"City: \", r[\"city\"])\n",
        "        print(\"ZIP: \", r[\"zip\"])\n",
        "        print(\"Latitude: \", r[\"lat\"])\n",
        "        print(\"Longitude: \", r[\"lon\"])\n",
        "        print(\"Timezone: \", r[\"timezone\"])\n",
        "        print(\"ISP: \", r[\"isp\"])\n",
        "    else:\n",
        "        print(\"Error! Please try again.\")\n",
        "IP=input(\"Enter IP Address To Geolocate: \")\n",
        "locate(IP)"
      ]
    }
  ]
}